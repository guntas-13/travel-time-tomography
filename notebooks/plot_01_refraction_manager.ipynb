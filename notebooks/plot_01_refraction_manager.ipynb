{
  "cells": [
    {
      "cell_type": "code",
      "execution_count": null,
      "metadata": {
        "collapsed": false
      },
      "outputs": [],
      "source": [
        "# Checkout www.pygimli.org for more examples"
      ]
    },
    {
      "cell_type": "markdown",
      "metadata": {},
      "source": [
        "\n# 2D Refraction modelling and inversion\n\nThis example shows how to use the TravelTime manager to generate the response\nof a three-layered sloping model and to invert the synthetic noisified data.\n"
      ]
    },
    {
      "cell_type": "code",
      "execution_count": null,
      "metadata": {
        "collapsed": false
      },
      "outputs": [],
      "source": [
        "import numpy as np\nimport pygimli as pg\nimport pygimli.meshtools as mt\nimport pygimli.physics.traveltime as tt"
      ]
    },
    {
      "cell_type": "markdown",
      "metadata": {},
      "source": [
        "## Model setup\nWe start by creating a three-layered slope (The model is taken from the BSc\nthesis of Constanze Reinken conducted at the University of Bonn).\n\n"
      ]
    },
    {
      "cell_type": "code",
      "execution_count": null,
      "metadata": {
        "collapsed": false
      },
      "outputs": [],
      "source": [
        "layer1 = mt.createPolygon([[0.0, 137], [117.5, 164], [117.5, 162], [0.0, 135]],\n                          isClosed=True, marker=1, area=1)\nlayer2 = mt.createPolygon([[0.0, 126], [0.0, 135], [117.5, 162], [117.5, 153]],\n                          isClosed=True, marker=2)\nlayer3 = mt.createPolygon([[0.0, 110], [0.0, 126], [117.5, 153], [117.5, 110]],\n                          isClosed=True, marker=3)\n\ngeom = layer1 + layer2 + layer3\n\n# If you want no sloping flat earth geometry .. comment out the next 3 lines\n# geom = mt.createWorld(start=[0.0, 110], end=[117.5, 137],\n#                       layers=[137-2, 137-11])\n# slope = 0.0\n\npg.show(geom)\n\nmesh = mt.createMesh(geom, quality=34.3, area=3, smooth=[1, 10])\nax, _ = pg.show(mesh)"
      ]
    },
    {
      "cell_type": "markdown",
      "metadata": {},
      "source": [
        "Next we define geophone positions and a measurement scheme, which consists of\nshot and receiver indices.\n\n"
      ]
    },
    {
      "cell_type": "code",
      "execution_count": null,
      "metadata": {
        "collapsed": false
      },
      "outputs": [],
      "source": [
        "numberGeophones = 48\nsensors = np.linspace(0., 117.5, numberGeophones)\nscheme = tt.createRAData(sensors, shotDistance=3)\n\n# Adapt sensor positions to slope\nslope = (164 - 137) / 117.5\npos = np.array(scheme.sensors())\nfor x in pos[:, 0]:\n    i = np.where(pos[:, 0] == x)\n    new_y = x * slope + 137\n    pos[i, 1] = new_y\n\nscheme.setSensors(pos)"
      ]
    },
    {
      "cell_type": "markdown",
      "metadata": {},
      "source": [
        "## Synthetic data generation\nNow we initialize the TravelTime manager and asssign P-wave velocities to the\nlayers. To this end, we create a map from cell markers 0 through 3 to\nvelocities (in m/s) and generate a velocity vector. To check whether the\nmodel looks correct, we plot it along with the sensor positions.\n\n"
      ]
    },
    {
      "cell_type": "code",
      "execution_count": null,
      "metadata": {
        "collapsed": false
      },
      "outputs": [],
      "source": [
        "vp = np.array(mesh.cellMarkers())\nvp[vp == 1] = 250\nvp[vp == 2] = 500\nvp[vp == 3] = 1300\n\nax, _ = pg.show(mesh, vp, colorBar=True, logScale=False, label='v in m/s')\npg.viewer.mpl.drawSensors(ax, scheme.sensors(), diam=1.0,\n                         facecolor='white', edgecolor='black')"
      ]
    },
    {
      "cell_type": "markdown",
      "metadata": {},
      "source": [
        "We use this model to create noisified synthetic data and look at the\ntraveltime data matrix. Note, we force a specific noise seed as we want\nreproducable results for testing purposes.\n\n"
      ]
    },
    {
      "cell_type": "code",
      "execution_count": null,
      "metadata": {
        "collapsed": false
      },
      "outputs": [],
      "source": [
        "data = tt.simulate(slowness=1.0 / vp, scheme=scheme, mesh=mesh,\n                   noiseLevel=0.001, noiseAbs=0.001, seed=1337, verbose=True)\ntt.show(data)"
      ]
    },
    {
      "cell_type": "markdown",
      "metadata": {},
      "source": [
        "## Inversion\nNow we invert the synthetic data. We need a new independent mesh without\ninformation about the layered structure. This mesh can be created manual or\nguessd automatic from the data sensor positions (in this example). We\ntune the maximum cell size in the parametric domain to 15m\u00b2\n\n"
      ]
    },
    {
      "cell_type": "code",
      "execution_count": null,
      "metadata": {
        "collapsed": false
      },
      "outputs": [],
      "source": [
        "mgr = tt.TravelTimeManager(data)\nvest = mgr.invert(secNodes=2, paraMaxCellSize=15.0,\n                  maxIter=10, verbose=True)\nnp.testing.assert_array_less(mgr.inv.inv.chi2(), 1.1)"
      ]
    },
    {
      "cell_type": "markdown",
      "metadata": {},
      "source": [
        "The manager also holds the method showResult that is used to plot the result.\nNote that only covered cells are shown by default.\nFor comparison we plot the geometry on top.\n\n"
      ]
    },
    {
      "cell_type": "code",
      "execution_count": null,
      "metadata": {
        "collapsed": false
      },
      "outputs": [],
      "source": [
        "ax, _ = mgr.showResult(cMin=min(vp), cMax=max(vp), logScale=False)\nax, _ = pg.show(geom, ax=ax, fillRegion=False, regionMarker=False)"
      ]
    },
    {
      "cell_type": "markdown",
      "metadata": {},
      "source": [
        "Note that internally the following is called\n\n```python\nax, _ = pg.show(ra.mesh, vest, label=\"Velocity [m/s]\", **kwargs)\n```\n"
      ]
    },
    {
      "cell_type": "markdown",
      "metadata": {},
      "source": [
        "It is always important to have a look at the data fit.\n\n"
      ]
    },
    {
      "cell_type": "code",
      "execution_count": null,
      "metadata": {
        "collapsed": false
      },
      "outputs": [],
      "source": [
        "mgr.showFit(firstPicks=True)"
      ]
    },
    {
      "cell_type": "markdown",
      "metadata": {},
      "source": [
        "<div class=\"alert alert-info\"><h4>Note</h4><p>Takeaway message\n\n    A default data inversion with checking of the data consists of only few\n    lines. Check out `ex:koenigsee`.</p></div>\n\n"
      ]
    }
  ],
  "metadata": {
    "kernelspec": {
      "display_name": "Python 3",
      "language": "python",
      "name": "python3"
    },
    "language_info": {
      "codemirror_mode": {
        "name": "ipython",
        "version": 3
      },
      "file_extension": ".py",
      "mimetype": "text/x-python",
      "name": "python",
      "nbconvert_exporter": "python",
      "pygments_lexer": "ipython3",
      "version": "3.12.9"
    }
  },
  "nbformat": 4,
  "nbformat_minor": 0
}