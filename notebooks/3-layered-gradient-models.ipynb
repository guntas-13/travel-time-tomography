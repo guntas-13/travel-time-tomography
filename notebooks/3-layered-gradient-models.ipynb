{
  "cells": [
    {
      "cell_type": "code",
      "execution_count": null,
      "metadata": {
        "collapsed": false
      },
      "outputs": [],
      "source": [
        "# Checkout www.pygimli.org for more examples"
      ]
    },
    {
      "cell_type": "markdown",
      "metadata": {},
      "source": [
        "\n# Raypaths in layered and gradient models\n\nThis example performs raytracing for a two-layer and a vertical gradient model\nand compares the resulting traveltimes to existing analytical solutions. An\napproximation of the raypath is found by finding the shortest-path through a\ngrid of nodes. The possible angular coverage is small when only corner points\nof a cell (primary nodes) are used for this purpose. The angular coverage, and\nhence the numerical accuracy of traveltime calculations, can be significantly\nimproved by a few secondary nodes along the cell edges. Details can be found in\n[Giroux & Larouche (2013)](https://doi.org/10.1016/j.cageo.2012.12.005).\n"
      ]
    },
    {
      "cell_type": "code",
      "execution_count": null,
      "metadata": {
        "collapsed": false
      },
      "outputs": [],
      "source": [
        "from math import asin, tan\n\nimport matplotlib.pyplot as plt\nimport numpy as np\nimport pygimli as pg\nimport pygimli.meshtools as mt\nfrom pygimli.viewer.mpl import drawMesh\n\nfrom pygimli.physics import TravelTimeManager"
      ]
    },
    {
      "cell_type": "markdown",
      "metadata": {},
      "source": [
        "## Two-layer model\nWe start by building a regular grid.\n\n"
      ]
    },
    {
      "cell_type": "code",
      "execution_count": null,
      "metadata": {
        "collapsed": false
      },
      "outputs": [],
      "source": [
        "mesh_layered = mt.createGrid(\n    np.arange(-20, 155, step=5, dtype=float), np.linspace(-60, 0, 13))"
      ]
    },
    {
      "cell_type": "markdown",
      "metadata": {},
      "source": [
        "We now construct the velocity vector for the two-layer case by iterating over\nthe cells. Cells above 25 m depth are assigned $v = 1000$ m/s and cells\nbelow are assigned $v = 3000$ m/s.\n\n"
      ]
    },
    {
      "cell_type": "code",
      "execution_count": null,
      "metadata": {
        "collapsed": false
      },
      "outputs": [],
      "source": [
        "vel_layered = np.zeros(mesh_layered.cellCount())\nfor cell in mesh_layered.cells():\n    if cell.center().y() < -25:\n        vel = 3000.0\n    else:\n        vel = 1000.0\n    vel_layered[cell.id()] = vel\n\nax, cb = pg.show(mesh_layered, vel_layered, label=\"Velocity (m/s)\")"
      ]
    },
    {
      "cell_type": "markdown",
      "metadata": {},
      "source": [
        "We now define the analytical solution. The traveltime at a given offset `x`\nis the minimum of the direct and critically refracted wave, where the latter\nis governed by Snell's law.\n\n"
      ]
    },
    {
      "cell_type": "code",
      "execution_count": null,
      "metadata": {
        "collapsed": false
      },
      "outputs": [],
      "source": [
        "def analyticalSolution2Layer(x, zlay=25, v1=1000, v2=3000):\n    \"\"\"Analytical solution for 2 layer case.\"\"\"\n    tdirect = np.abs(x) / v1  # direct wave\n    alfa = asin(v1 / v2)  # critically refracted wave angle\n    xreflec = tan(alfa) * zlay * 2.  # first critically refracted\n    trefrac = (x - xreflec) / v2 + xreflec * v2 / v1**2\n    return np.minimum(tdirect, trefrac)"
      ]
    },
    {
      "cell_type": "markdown",
      "metadata": {},
      "source": [
        "## Vertical gradient model\nWe first create an unstructured mesh:\n\n"
      ]
    },
    {
      "cell_type": "code",
      "execution_count": null,
      "metadata": {
        "collapsed": false
      },
      "outputs": [],
      "source": [
        "sensors = np.arange(131, step=10.0)\nplc = mt.createWorld([-20, -60], [150, 0], worldMarker=False)\nfor pos in sensors:\n    plc.createNode([pos, 0.0])\nmesh_gradient = mt.createMesh(plc, quality=33, area=3)"
      ]
    },
    {
      "cell_type": "markdown",
      "metadata": {},
      "source": [
        "A vertical gradient model, i.e. $v(z) = a + bz$, is defined per cell.\n\n"
      ]
    },
    {
      "cell_type": "code",
      "execution_count": null,
      "metadata": {
        "collapsed": false
      },
      "outputs": [],
      "source": [
        "a = 1000\nb = 100\n\nvel_gradient = []\nfor node in mesh_gradient.nodes():\n    vel_gradient.append(a + b * abs(node.y()))\nvel_gradient = pg.meshtools.nodeDataToCellData(mesh_gradient,\n                                               np.array(vel_gradient))\nax, cb = pg.show(mesh_gradient, vel_gradient, label=\"Velocity (m/s)\")"
      ]
    },
    {
      "cell_type": "markdown",
      "metadata": {},
      "source": [
        "The traveltime for a gradient velocity model is given by:\n\n\\begin{align}v = \\left|b^{-1}cosh^{-1}\\left(1 + \\frac{b^2 x^2}{2a^2}\\right)\\right|\\end{align}\n\n\n"
      ]
    },
    {
      "cell_type": "code",
      "execution_count": null,
      "metadata": {
        "collapsed": false
      },
      "outputs": [],
      "source": [
        "def analyticalSolutionGradient(x, a=1000, b=100):\n    \"\"\"Analytical solution for gradient model.\"\"\"\n    tdirect = np.abs(x) / a  # direct wave\n    tmp = 1 + ((b**2 * np.abs(x)**2) / (2 * a**2))\n    trefrac = np.abs(b**-1 * np.arccosh(tmp))\n    return np.minimum(tdirect, trefrac)"
      ]
    },
    {
      "cell_type": "markdown",
      "metadata": {},
      "source": [
        "The loop below calculates the travel times and makes the comparison plot.\n\n"
      ]
    },
    {
      "cell_type": "code",
      "execution_count": null,
      "metadata": {
        "collapsed": false
      },
      "outputs": [],
      "source": [
        "fig, ax = plt.subplots(3, 2, figsize=(10, 10), sharex=True)\n\nfor j, (case, mesh, vel) in enumerate(zip([\"layered\", \"gradient\"],\n                                          [mesh_layered, mesh_gradient],\n                                          [vel_layered, vel_gradient])):\n    pg.boxprint(case)\n    if case == \"gradient\":\n        ana = analyticalSolutionGradient\n    elif case == \"layered\":\n        ana = analyticalSolution2Layer\n    for boundary in mesh.boundaries():\n        boundary.setMarker(0)\n\n    xmin, xmax = mesh.xmin(), mesh.xmax()\n    mesh.createNeighborInfos()\n\n    # In order to use the Dijkstra, we extract the surface positions >0\n    mx = pg.x(mesh)\n    my = pg.y(mesh)\n    px = np.sort(mx[my == 0.0])\n\n    # A data container with index arrays named s (shot) and g (geophones) is\n    # created and filled with the positions and shot/geophone indices.\n    data = pg.DataContainer()\n    data.registerSensorIndex('s')\n    data.registerSensorIndex('g')\n\n    for i, pxi in enumerate(px):\n        data.createSensor([pxi, 0.0])\n        if pxi == 0.0:\n            source = i\n\n    nData = len(px)\n    data.resize(nData)\n    data['s'] = [source] * nData # only one shot at first sensor\n    data['g'] = range(nData)  # and all sensors are receiver geophones\n\n    # Draw initial mesh with velocity distribution\n    pg.show(mesh, vel, ax=ax[0, j], label=\"Velocity (m/s)\", hold=True,\n            logScale=False, cMap=\"summer_r\", coverage=0.7)\n    drawMesh(ax[0, j], mesh, color=\"white\", lw=0.21)\n\n    # We compare the accuracy for 0-5 secondary nodes\n    sec_nodes = [0, 1, 5]\n    t_all = []\n    durations = []\n    paths = []\n\n    mgr = TravelTimeManager()\n\n    cols = [\"orangered\", \"blue\", \"black\"]\n    recs = [1, 3, 8, 13]\n\n    for i, n in enumerate(sec_nodes):\n\n        # Perform traveltime calculations and log time with pg.tic() & pg.toc()\n        pg.tic()\n        res = mgr.simulate(vel=vel, scheme=data, mesh=mesh, secNodes=n)\n        # We need to copy res['t'] here because res['t'] is a reference to\n        # an array in res, and res will be removed in the next iteration.\n        # Unfortunately, we don't have any reverence counting for core objects yet.\n        t_all.append(res['t'].array())\n        durations.append(pg.dur())\n        pg.toc(\"Raytracing with %d secondary nodes:\" % n)\n\n        for r, p in enumerate(recs):\n            if r == 0:\n                lab = \"Raypath with %d sec nodes\" % n\n            else:\n                lab = None\n\n            recNode = mgr.fop.mesh().findNearestNode([sensors[p], 0.0])\n            sourceNode = mgr.fop.mesh().findNearestNode([0.0, 0.0])\n\n            path = mgr.fop.dijkstra.shortestPath(sourceNode, recNode)\n            points = mgr.fop.mesh().positions(withSecNodes=True)[path].array()\n            ax[0, j].plot(points[:,0], points[:,1], cols[i], label=lab)\n\n    t_ana = ana(px)\n\n    # Upper subplot\n    ax[1, j].plot(px, t_ana * 1000, label=\"Analytical solution\")\n\n    for i, n in enumerate(sec_nodes):\n        ax[1, j].plot(px, t_all[i] * 1000,\n                      label=\"Dijkstra (%d sec nodes, %.2f s)\" % (n, durations[i]))\n\n    ax[2, j].plot(px, np.zeros_like(px), label=\"Zero line\")  # to keep color cycle\n\n    for i, n in enumerate(sec_nodes):\n        ax[2, j].plot(px, np.abs(t_all[i] - t_ana) * 1000)\n\n    ax[1, j].legend()\n\n    # Draw sensor positions for the selected receivers\n    for p in recs:\n        ax[0, j].plot(sensors[p], 0.0, \"kv\", ms=10)\n    ax[0, j].plot(0.0, 0.0, \"ro\", ms=10)\n    ax[0, j].set_ylim(mesh.ymin(), 2)\n\nax[0, 0].set_title(\"Two-layer model\")\nax[0, 1].set_title(\"Vertical gradient model\")\nax[0, 0].legend()\nax[0, 0].set_ylabel(\"y (m)\")\nax[1, 0].set_ylabel(\"Traveltime (ms)\")\nax[2, 0].set_ylabel(\"Absolute difference to\\nanalytical solution (ms)\")\nax[2, 0].set_xlabel(\"x (m)\")\nfig.tight_layout()"
      ]
    }
  ],
  "metadata": {
    "kernelspec": {
      "display_name": "Python 3",
      "language": "python",
      "name": "python3"
    },
    "language_info": {
      "codemirror_mode": {
        "name": "ipython",
        "version": 3
      },
      "file_extension": ".py",
      "mimetype": "text/x-python",
      "name": "python",
      "nbconvert_exporter": "python",
      "pygments_lexer": "ipython3",
      "version": "3.12.9"
    }
  },
  "nbformat": 4,
  "nbformat_minor": 0
}