{
  "cells": [
    {
      "cell_type": "code",
      "execution_count": null,
      "metadata": {
        "collapsed": false
      },
      "outputs": [],
      "source": [
        "# Checkout www.pygimli.org for more examples"
      ]
    },
    {
      "cell_type": "markdown",
      "metadata": {},
      "source": [
        "\n\n# Field data inversion (\"Koenigsee\")\n\nThis minimalistic example shows how to use the Refraction Manager to invert\na field data set. Here, we consider the Koenigsee data set, which represents\nclassical refraction seismics data set with slightly heterogeneous overburden\nand some high-velocity bedrock. The data file can be found in the [pyGIMLi\nexample data repository](https://github.com/gimli-org/example-data/blob/master/traveltime/koenigsee.sgt).\n"
      ]
    },
    {
      "cell_type": "code",
      "execution_count": null,
      "metadata": {
        "collapsed": false
      },
      "outputs": [],
      "source": [
        "# We import pyGIMLi and the traveltime module.\n\nimport matplotlib.pyplot as plt\nimport pygimli as pg\nimport pygimli.physics.traveltime as tt"
      ]
    },
    {
      "cell_type": "markdown",
      "metadata": {},
      "source": [
        "The helper function `pg.getExampleData` downloads the data set to a temporary\nlocation and loads it. Printing the data reveals that there are 714 data\npoints using 63 sensors (shots and geophones) with the data columns s (shot),\ng (geophone), and t (traveltime). By default, there is also a validity flag.\n\n"
      ]
    },
    {
      "cell_type": "code",
      "execution_count": null,
      "metadata": {
        "collapsed": false
      },
      "outputs": [],
      "source": [
        "data = pg.getExampleData(\"traveltime/koenigsee.sgt\", verbose=True)\nprint(data)"
      ]
    },
    {
      "cell_type": "markdown",
      "metadata": {},
      "source": [
        "Let's have a look at the data in the form of traveltime curves.\n\n"
      ]
    },
    {
      "cell_type": "code",
      "execution_count": null,
      "metadata": {
        "collapsed": false
      },
      "outputs": [],
      "source": [
        "fig, ax = plt.subplots()\nlines = tt.drawFirstPicks(ax, data)"
      ]
    },
    {
      "cell_type": "markdown",
      "metadata": {},
      "source": [
        "We initialize the refraction manager.\n\n"
      ]
    },
    {
      "cell_type": "code",
      "execution_count": null,
      "metadata": {
        "collapsed": false
      },
      "outputs": [],
      "source": [
        "mgr = tt.TravelTimeManager(data)\n\n# Alternatively, one can plot a matrix plot of apparent velocities which is the\n# more general function also making sense for crosshole data.\n\nax, cbar = mgr.showData()"
      ]
    },
    {
      "cell_type": "markdown",
      "metadata": {},
      "source": [
        "Finally, we call the `invert` method and plot the result.The mesh is created\nbased on the sensor positions on-the-fly.\n\n"
      ]
    },
    {
      "cell_type": "code",
      "execution_count": null,
      "metadata": {
        "collapsed": false
      },
      "outputs": [],
      "source": [
        "mgr.invert(secNodes=3, paraMaxCellSize=5.0,\n           zWeight=0.2, vTop=500, vBottom=5000, verbose=1)"
      ]
    },
    {
      "cell_type": "markdown",
      "metadata": {},
      "source": [
        "Look at the fit between measured (crosses) and modelled (lines) traveltimes.\n\n"
      ]
    },
    {
      "cell_type": "code",
      "execution_count": null,
      "metadata": {
        "collapsed": false
      },
      "outputs": [],
      "source": [
        "mgr.showFit(firstPicks=True)"
      ]
    },
    {
      "cell_type": "markdown",
      "metadata": {},
      "source": [
        "You can plot only the model and customize with a bunch of keywords\n\n"
      ]
    },
    {
      "cell_type": "code",
      "execution_count": null,
      "metadata": {
        "collapsed": false
      },
      "outputs": [],
      "source": [
        "ax, cbar = mgr.showResult(logScale=False, cMin=500, cMax=3000, cMap=\"plasma_r\",\n                          coverage=mgr.standardizedCoverage())\nrays = mgr.drawRayPaths(ax=ax, color=\"k\", lw=0.3, alpha=0.5)\n\n# mgr.coverage() yields the ray coverage in m and standardizedCoverage as 0/1"
      ]
    },
    {
      "cell_type": "markdown",
      "metadata": {},
      "source": [
        "You can play around with the gradient starting model (`vTop` and `vBottom`\narguments) and the regularization strength `lam` and customize the mesh.\n\n"
      ]
    }
  ],
  "metadata": {
    "kernelspec": {
      "display_name": "Python 3",
      "language": "python",
      "name": "python3"
    },
    "language_info": {
      "codemirror_mode": {
        "name": "ipython",
        "version": 3
      },
      "file_extension": ".py",
      "mimetype": "text/x-python",
      "name": "python",
      "nbconvert_exporter": "python",
      "pygments_lexer": "ipython3",
      "version": "3.12.9"
    }
  },
  "nbformat": 4,
  "nbformat_minor": 0
}