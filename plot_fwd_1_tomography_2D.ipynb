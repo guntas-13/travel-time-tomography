{
  "cells": [
    {
      "cell_type": "markdown",
      "metadata": {},
      "source": [
        "\n",
        "# Forward Simulation for Straight Ray Tomography in 2D\n",
        "\n",
        "Here we module *simpeg.seismic.straight_ray_tomography* to predict arrival\n",
        "time data for a synthetic velocity/slowness model. In this tutorial, we focus on the following:\n",
        "\n",
        "    - How to define the survey\n",
        "    - How to define the forward simulation\n",
        "    - How to predict arrival time data\n"
      ]
    },
    {
      "cell_type": "markdown",
      "metadata": {},
      "source": [
        "## Import Modules\n",
        "\n",
        "\n"
      ]
    },
    {
      "cell_type": "code",
      "execution_count": null,
      "metadata": {
        "collapsed": false
      },
      "outputs": [],
      "source": [
        "import os\n",
        "import numpy as np\n",
        "import matplotlib as mpl\n",
        "import matplotlib.pyplot as plt\n",
        "\n",
        "from discretize import TensorMesh\n",
        "\n",
        "from simpeg import maps\n",
        "from simpeg.seismic import straight_ray_tomography as tomo\n",
        "from simpeg.utils import model_builder\n",
        "\n",
        "save_file = False"
      ]
    },
    {
      "cell_type": "markdown",
      "metadata": {},
      "source": [
        "## Defining the Survey\n",
        "\n",
        "Here, we define survey that will be used for the forward simulation. The survey\n",
        "consists of a horizontal line of point receivers at Y = 100 m and a horizontal\n",
        "line of point sources at Y = -100 m. The shot by each source is measured by\n",
        "all receivers.\n",
        "\n",
        "\n"
      ]
    },
    {
      "cell_type": "code",
      "execution_count": null,
      "metadata": {
        "collapsed": false
      },
      "outputs": [],
      "source": [
        "# Define the locations for the sources and receivers.\n",
        "x = np.linspace(-100, 100, 11)\n",
        "y_receivers = 100 * np.ones(len(x))\n",
        "y_sources = -100 * np.ones(len(x))\n",
        "\n",
        "receiver_locations = np.c_[x, y_receivers]\n",
        "source_locations = np.c_[x, y_sources]\n",
        "\n",
        "# Define the list of receivers used by each source\n",
        "receiver_list = [tomo.Rx(receiver_locations)]\n",
        "\n",
        "# Define an empty list to store sources objects. Define each source and\n",
        "# provide its corresponding receivers list\n",
        "source_list = []\n",
        "for ii in range(0, len(y_sources)):\n",
        "    source_list.append(\n",
        "        tomo.Src(location=source_locations[ii, :], receiver_list=receiver_list)\n",
        "    )\n",
        "\n",
        "# Define they tomography survey\n",
        "survey = tomo.Survey(source_list)"
      ]
    },
    {
      "cell_type": "markdown",
      "metadata": {},
      "source": [
        "## Defining a Tensor Mesh\n",
        "\n",
        "Here, we create the tensor mesh that will be used to predict arrival time\n",
        "data.\n",
        "\n",
        "\n"
      ]
    },
    {
      "cell_type": "code",
      "execution_count": null,
      "metadata": {
        "collapsed": false
      },
      "outputs": [],
      "source": [
        "dh = 10.0  # cell width\n",
        "N = 21  # number of cells in X and Y direction\n",
        "hx = [(dh, N)]\n",
        "hy = [(dh, N)]\n",
        "mesh = TensorMesh([hx, hy], \"CC\")"
      ]
    },
    {
      "cell_type": "markdown",
      "metadata": {},
      "source": [
        "## Model and Mapping on Tensor Mesh\n",
        "\n",
        "Here, we create the velocity model that will be used to predict the data. Since\n",
        "the physical parameter for straight ray tomography is slowness, we must define\n",
        "a mapping which converts velocity values to slowness values. The model\n",
        "consists of a lower velocity block within a higher velocity background.\n",
        "\n",
        "\n"
      ]
    },
    {
      "cell_type": "code",
      "execution_count": null,
      "metadata": {
        "collapsed": false
      },
      "outputs": [],
      "source": [
        "# Define velocity of each unit in m/s\n",
        "background_velocity = 3000.0\n",
        "block_velocity = 1500.0\n",
        "\n",
        "# Define the model. Models in SimPEG are vector arrays.\n",
        "model = background_velocity * np.ones(mesh.nC)\n",
        "\n",
        "ind_block = model_builder.get_indices_block(np.r_[-50, 20], np.r_[50, -20], mesh.gridCC)\n",
        "model[ind_block] = block_velocity\n",
        "\n",
        "# Define a mapping from the model (velocity) to the slowness. If your model\n",
        "# consists of slowness values, you can use *maps.IdentityMap*.\n",
        "model_mapping = maps.ReciprocalMap()\n",
        "\n",
        "# Plot Velocity Model\n",
        "fig = plt.figure(figsize=(6, 5.5))\n",
        "\n",
        "ax1 = fig.add_axes([0.15, 0.15, 0.65, 0.75])\n",
        "mesh.plot_image(model, ax=ax1, grid=True, pcolor_opts={\"cmap\": \"viridis\"})\n",
        "ax1.set_xlabel(\"x (m)\")\n",
        "ax1.set_ylabel(\"y (m)\")\n",
        "ax1.plot(x, y_sources, \"ro\")  # source locations\n",
        "ax1.plot(x, y_receivers, \"ko\")  # receiver locations\n",
        "\n",
        "ax2 = fig.add_axes([0.82, 0.15, 0.05, 0.75])\n",
        "norm = mpl.colors.Normalize(vmin=np.min(model), vmax=np.max(model))\n",
        "cbar = mpl.colorbar.ColorbarBase(\n",
        "    ax2, norm=norm, orientation=\"vertical\", cmap=mpl.cm.viridis\n",
        ")\n",
        "cbar.set_label(\"$Velocity (m/s)$\", rotation=270, labelpad=15, size=12)"
      ]
    },
    {
      "cell_type": "markdown",
      "metadata": {},
      "source": [
        "## Simulation: Arrival Time\n",
        "\n",
        "Here we demonstrate how to predict arrival time data for the 2D straight\n",
        "ray tomography problem using the 2D Integral formulation.\n",
        "\n",
        "\n"
      ]
    },
    {
      "cell_type": "code",
      "execution_count": null,
      "metadata": {
        "collapsed": false
      },
      "outputs": [],
      "source": [
        "# Define the forward simulation. To do this we need the mesh, the survey and\n",
        "# the mapping from the model to the slowness values on the mesh.\n",
        "simulation = tomo.Simulation(mesh, survey=survey, slownessMap=model_mapping)\n",
        "\n",
        "# Compute predicted data for some model\n",
        "dpred = simulation.dpred(model)"
      ]
    },
    {
      "cell_type": "markdown",
      "metadata": {},
      "source": [
        "## Plotting\n",
        "\n",
        "\n"
      ]
    },
    {
      "cell_type": "code",
      "execution_count": null,
      "metadata": {
        "collapsed": false
      },
      "outputs": [],
      "source": [
        "n_source = len(source_list)\n",
        "n_receiver = len(x)\n",
        "dpred_plotting = dpred.reshape(n_receiver, n_source)\n",
        "\n",
        "fig = plt.figure(figsize=(8, 5))\n",
        "ax = fig.add_subplot(111)\n",
        "obs_string = []\n",
        "\n",
        "for ii in range(0, n_source):\n",
        "    ax.plot(x, dpred_plotting[:, ii])\n",
        "    obs_string.append(\"source {}\".format(ii + 1))\n",
        "\n",
        "ax.set_xlim(np.min(x), np.max(x))\n",
        "ax.set_xlabel(\"x (m)\")\n",
        "ax.set_ylabel(\"arrival time (s)\")\n",
        "ax.set_title(\"Positions vs. Arrival Time\")\n",
        "ax.legend(obs_string, loc=\"upper right\")"
      ]
    },
    {
      "cell_type": "markdown",
      "metadata": {},
      "source": [
        "## Optional: Exporting Results\n",
        "\n",
        "Write the data and true model\n",
        "\n",
        "\n"
      ]
    },
    {
      "cell_type": "code",
      "execution_count": null,
      "metadata": {
        "collapsed": false
      },
      "outputs": [],
      "source": [
        "if save_file:\n",
        "    dir_path = os.path.dirname(tomo.__file__).split(os.path.sep)[:-3]\n",
        "    dir_path.extend([\"tutorials\", \"seismic\", \"assets\"])\n",
        "    dir_path = os.path.sep.join(dir_path) + os.path.sep\n",
        "\n",
        "    noise = 0.05 * dpred * np.random.randn(len(dpred))\n",
        "\n",
        "    data_array = np.c_[\n",
        "        np.kron(x, np.ones(n_receiver)),\n",
        "        np.kron(y_sources, np.ones(n_receiver)),\n",
        "        np.kron(np.ones(n_source), x),\n",
        "        np.kron(np.ones(n_source), y_receivers),\n",
        "        dpred + noise,\n",
        "    ]\n",
        "\n",
        "    fname = dir_path + \"tomography2D_data.obs\"\n",
        "    np.savetxt(fname, data_array, fmt=\"%.4e\")\n",
        "\n",
        "    output_model = model\n",
        "    fname = dir_path + \"true_model_2D.txt\"\n",
        "    np.savetxt(fname, output_model, fmt=\"%.4e\")"
      ]
    }
  ],
  "metadata": {
    "kernelspec": {
      "display_name": "sttPy10",
      "language": "python",
      "name": "python3"
    },
    "language_info": {
      "codemirror_mode": {
        "name": "ipython",
        "version": 3
      },
      "file_extension": ".py",
      "mimetype": "text/x-python",
      "name": "python",
      "nbconvert_exporter": "python",
      "pygments_lexer": "ipython3",
      "version": "3.10.16"
    }
  },
  "nbformat": 4,
  "nbformat_minor": 0
}
